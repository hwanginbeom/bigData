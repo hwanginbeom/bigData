{
  "nbformat": 4,
  "nbformat_minor": 0,
  "metadata": {
    "colab": {
      "name": "Variable selection.ipynb",
      "provenance": [],
      "private_outputs": true,
      "mount_file_id": "1SBzU1t8P0kFC8Xr0dD8JgDtVikY-EKpZ",
      "authorship_tag": "ABX9TyMXCiQ/WGvTxsKCtxJW8FcR",
      "include_colab_link": true
    },
    "kernelspec": {
      "name": "python3",
      "display_name": "Python 3"
    }
  },
  "cells": [
    {
      "cell_type": "markdown",
      "metadata": {
        "id": "view-in-github",
        "colab_type": "text"
      },
      "source": [
        "<a href=\"https://colab.research.google.com/github/hwanginbeom/bigData/blob/master/Variable_selection.ipynb\" target=\"_parent\"><img src=\"https://colab.research.google.com/assets/colab-badge.svg\" alt=\"Open In Colab\"/></a>"
      ]
    },
    {
      "cell_type": "code",
      "metadata": {
        "id": "Tv7-GBqX_4Ej",
        "colab_type": "code",
        "colab": {}
      },
      "source": [
        "import pandas as pd\n",
        "import numpy as np\n",
        "import datetime\n",
        "import seaborn as sns\n",
        "import xgboost as xgb\n",
        "from sklearn.model_selection import train_test_split\n",
        "from sklearn.model_selection import KFold\n",
        "from sklearn.model_selection import GridSearchCV\n",
        "from sklearn.model_selection import cross_val_score\n",
        "from sklearn.metrics import explained_variance_score\n",
        "from sklearn.preprocessing import OneHotEncoder, MinMaxScaler\n",
        "import lightgbm as lgb\n",
        "from sklearn.decomposition import PCA\n",
        "\n",
        "\n",
        "import matplotlib.pyplot as plt\n",
        "plt.rc('font', family='NanumBarunGothic') # 한글설정"
      ],
      "execution_count": null,
      "outputs": []
    },
    {
      "cell_type": "code",
      "metadata": {
        "id": "2nd6ij7RAHZd",
        "colab_type": "code",
        "colab": {}
      },
      "source": [
        "# 파이썬 지수를 정수로 표현!\n",
        "pd.options.display.float_format = '{:.5f}'.format\n",
        "\n",
        "# 코랩 그래프 크게!\n",
        "\n",
        "%matplotlib inline\n",
        "\n",
        "plt.rcParams['figure.figsize'] = (25, 25)"
      ],
      "execution_count": null,
      "outputs": []
    },
    {
      "cell_type": "code",
      "metadata": {
        "id": "SwOdI4k7AIRj",
        "colab_type": "code",
        "colab": {}
      },
      "source": [
        "from google.colab import drive\n",
        "drive.mount('/content/drive')"
      ],
      "execution_count": null,
      "outputs": []
    },
    {
      "cell_type": "code",
      "metadata": {
        "id": "AFZMcXP6AQUB",
        "colab_type": "code",
        "colab": {}
      },
      "source": [
        "# 한글설정\n",
        "plt.rc('font', family='NanumBarunGothic')\n",
        "\n",
        "# 파이썬 지수를 정수로 표현\n",
        "pd.options.display.float_format = '{:.5f}'.format\n",
        "\n",
        "# 구글 드라이브 연동\n",
        "from google.colab import drive\n",
        "drive.mount('/content/drive')\n",
        "\n",
        "# 데이터 불러오기\n",
        "test = pd.read_csv('/content/drive/My Drive/data/bigcorn_data/2019test3.csv', encoding = 'cp949')\n",
        "train = pd.read_csv('/content/drive/My Drive/data/bigcorn_data/2019train3.csv', encoding = 'cp949')"
      ],
      "execution_count": null,
      "outputs": []
    },
    {
      "cell_type": "code",
      "metadata": {
        "id": "VWY5uPnYAR0f",
        "colab_type": "code",
        "colab": {}
      },
      "source": [
        "X_train = train[['판매단가','상품코드','소분류순위','방송내_순서','브랜드순위','상품군판매단가순위','기온','시간hour']]\n",
        "y_train = test[['판매단가','상품코드','소분류순위','방송내_순서','브랜드순위','상품군판매단가순위','기온','시간hour']]"
      ],
      "execution_count": null,
      "outputs": []
    },
    {
      "cell_type": "code",
      "metadata": {
        "id": "1__a9Cw8AiGd",
        "colab_type": "code",
        "colab": {}
      },
      "source": [
        "X_test = train[['취급액boxcox']]\n",
        "y_test = test[['취급액boxcox']]"
      ],
      "execution_count": null,
      "outputs": []
    },
    {
      "cell_type": "code",
      "metadata": {
        "id": "2QX0lt24AdwD",
        "colab_type": "code",
        "colab": {}
      },
      "source": [
        "X_train = pd.get_dummies(X_train)  \n",
        "X_test = pd.get_dummies(X_test)  #61열"
      ],
      "execution_count": null,
      "outputs": []
    },
    {
      "cell_type": "code",
      "metadata": {
        "id": "bqO5U7qxBBC3",
        "colab_type": "code",
        "colab": {}
      },
      "source": [
        "#####radomforest#####\n",
        "from sklearn.ensemble import RandomForestRegressor\n",
        "rf_model = RandomForestRegressor(random_state=0)\n",
        "rf_model.fit(X_train, X_test)\n",
        "y_predict = rf_model.predict(y_train)\n",
        "print(y_predict)\n",
        "plt.plot(y_predict)\n",
        "print(rf_model.score(X_train, X_test))\n",
        "print(rf_model.score(y_train, y_test))"
      ],
      "execution_count": null,
      "outputs": []
    },
    {
      "cell_type": "code",
      "metadata": {
        "id": "JzisWS1SAek-",
        "colab_type": "code",
        "colab": {}
      },
      "source": [
        "#####radomforest#####\n",
        "from sklearn.ensemble import RandomForestRegressor\n",
        "rf_model = RandomForestRegressor(random_state=0)\n",
        "rf_model.fit(X_train, X_test)\n",
        "y_predict = rf_model.predict(y_train)\n",
        "print(y_predict)\n",
        "plt.plot(y_predict)\n",
        "print(rf_model.score(X_train, X_test))\n",
        "print(rf_model.score(y_train, y_test))"
      ],
      "execution_count": null,
      "outputs": []
    },
    {
      "cell_type": "code",
      "metadata": {
        "id": "w64pPe8xAlYT",
        "colab_type": "code",
        "colab": {}
      },
      "source": [
        "imp = rf_model.feature_importances_\n",
        "feature_list = pd.concat([pd.Series(list(X_train)), pd.Series(rf_model.feature_importances_)], axis=1)\n",
        "feature_list.columns = ['features_name', 'importance']\n",
        "feature_list.sort_values(\"importance\", ascending =False)[:20]"
      ],
      "execution_count": null,
      "outputs": []
    },
    {
      "cell_type": "code",
      "metadata": {
        "id": "rvgZYAeGAvoK",
        "colab_type": "code",
        "colab": {}
      },
      "source": [
        "import random"
      ],
      "execution_count": null,
      "outputs": []
    },
    {
      "cell_type": "code",
      "metadata": {
        "id": "ea9OiK6qCuKp",
        "colab_type": "code",
        "colab": {}
      },
      "source": [
        "random.randint(0, 9)"
      ],
      "execution_count": null,
      "outputs": []
    },
    {
      "cell_type": "code",
      "metadata": {
        "id": "zB3EFxYsDCKQ",
        "colab_type": "code",
        "colab": {}
      },
      "source": [
        "import random\n",
        " \n",
        "list_value = random.sample(range(1,len(X_train.columns)),8) # 1부터 100까지의 범위중에 10개를 중복없이 뽑겠다.\n",
        "print(list_value)\n"
      ],
      "execution_count": null,
      "outputs": []
    },
    {
      "cell_type": "code",
      "metadata": {
        "id": "wC_HKnomDSja",
        "colab_type": "code",
        "colab": {}
      },
      "source": [
        "value = []\n",
        "for i in list_value:\n",
        "    print(X_train.columns[i])\n",
        "    value.append(X_train.columns[i])"
      ],
      "execution_count": null,
      "outputs": []
    },
    {
      "cell_type": "code",
      "metadata": {
        "id": "VKmCTmClD1sS",
        "colab_type": "code",
        "colab": {}
      },
      "source": [
        "test = train[value]\n"
      ],
      "execution_count": null,
      "outputs": []
    },
    {
      "cell_type": "code",
      "metadata": {
        "id": "XDbG-Vf3EVEJ",
        "colab_type": "code",
        "colab": {}
      },
      "source": [
        "test"
      ],
      "execution_count": null,
      "outputs": []
    },
    {
      "cell_type": "code",
      "metadata": {
        "id": "fX9yBNcNFRjY",
        "colab_type": "code",
        "colab": {}
      },
      "source": [
        "df = train.drop(['B', 'E'], axis=1)"
      ],
      "execution_count": null,
      "outputs": []
    },
    {
      "cell_type": "code",
      "metadata": {
        "id": "LhJ3enslGAm0",
        "colab_type": "code",
        "colab": {}
      },
      "source": [
        "test = pd.read_csv('/content/drive/My Drive/data/bigcorn_data/2019test3.csv', encoding = 'cp949')\n",
        "train = pd.read_csv('/content/drive/My Drive/data/bigcorn_data/2019train3.csv', encoding = 'cp949')"
      ],
      "execution_count": null,
      "outputs": []
    },
    {
      "cell_type": "code",
      "metadata": {
        "id": "t9pUSXlfGBe9",
        "colab_type": "code",
        "colab": {}
      },
      "source": [
        "X_test = train[['취급액boxcox']]\n",
        "y_test = test[['취급액boxcox']]"
      ],
      "execution_count": null,
      "outputs": []
    },
    {
      "cell_type": "code",
      "metadata": {
        "id": "ivYnw9KkJkDT",
        "colab_type": "code",
        "colab": {}
      },
      "source": [
        "test=test[['한달_상품군빈도',\n",
        "'한달_중분류빈도',\n",
        "'한달_소분류빈도',\n",
        "'한달_그룹코드빈도',   \n",
        "'기온',\n",
        "'강수량',\n",
        "'풍속',\n",
        "'습도',\n",
        "'적설',\n",
        "'전운량',\n",
        "'미세먼지',\n",
        "'초미세먼지',\n",
        "'그룹코드_전체횟수',\n",
        "'그룹코드_대박횟수',\n",
        "'그룹코드_대박확률',\n",
        "'브랜드별_대박횟수',\n",
        "'브랜드별_대박확률',\n",
        "'중분류별_대박횟수',\n",
        "'중분류별_대박확률',\n",
        "'소분류별_대박횟수',\n",
        "'소분류별_대박확률',\n",
        "'월_COS',\n",
        "'월_SIN',\n",
        "'168시간_COS',\n",
        "'168시간_SIN',\n",
        "'24시간_COS',\n",
        "'24시간_SIN',\n",
        "'판매단가순위',\n",
        "'상품군판매단가순위',\n",
        "'상품군요일순위',   \n",
        "'상품군24시간순위',   \n",
        "'중분류요일순위',\n",
        "'중분류24시간순위',\n",
        "'상품군168시간순위',   \n",
        "'중분류168시간순위',   \n",
        "'판매단가rank',   \n",
        "'시간순위',\n",
        "'시간순위168',   \n",
        "'브랜드순위',   \n",
        "'소분류순위',\n",
        "'비눈여부',\n",
        "'비눈여부_평균이상',\n",
        "'sale단어',\n",
        "'휴일',\n",
        "'그룹코드',\n",
        "'판매단가'\n",
        "]]\n",
        "\n",
        "train=train[['한달_상품군빈도',\n",
        "'한달_중분류빈도',\n",
        "'한달_소분류빈도',\n",
        "'한달_그룹코드빈도',   \n",
        "'기온',\n",
        "'강수량',\n",
        "'풍속',\n",
        "'습도',\n",
        "'적설',\n",
        "'전운량',\n",
        "'미세먼지',\n",
        "'초미세먼지',\n",
        "'그룹코드_전체횟수',\n",
        "'그룹코드_대박횟수',\n",
        "'그룹코드_대박확률',\n",
        "'브랜드별_대박횟수',\n",
        "'브랜드별_대박확률',\n",
        "'중분류별_대박횟수',\n",
        "'중분류별_대박확률',\n",
        "'소분류별_대박횟수',\n",
        "'소분류별_대박확률',\n",
        "'월_COS',\n",
        "'월_SIN',\n",
        "'168시간_COS',\n",
        "'168시간_SIN',\n",
        "'24시간_COS',\n",
        "'24시간_SIN',\n",
        "'판매단가순위',\n",
        "'상품군판매단가순위',\n",
        "'상품군요일순위',   \n",
        "'상품군24시간순위',   \n",
        "'중분류요일순위',\n",
        "'중분류24시간순위',\n",
        "'상품군168시간순위',   \n",
        "'중분류168시간순위',   \n",
        "'판매단가rank',   \n",
        "'시간순위',\n",
        "'시간순위168',   \n",
        "'브랜드순위',   \n",
        "'소분류순위',\n",
        "'비눈여부',\n",
        "'비눈여부_평균이상',\n",
        "'sale단어',\n",
        "'휴일',\n",
        "'그룹코드',\n",
        "'판매단가']]"
      ],
      "execution_count": null,
      "outputs": []
    },
    {
      "cell_type": "code",
      "metadata": {
        "id": "CEjlvSvdG-fz",
        "colab_type": "code",
        "colab": {}
      },
      "source": [
        "hyper_parameter =''\n",
        "max_score = 0\n",
        "for i in range(0,35):\n",
        "    list_value = random.sample(range(1,len(train.columns)),10) # 1부터 100까지의 범위중에 10개를 중복없이 뽑겠다.\n",
        "    value = []\n",
        "    for i in list_value:\n",
        "        value.append(test.columns[i])\n",
        "    X_train = train[value]\n",
        "    y_train = test[value]\n",
        "    X_train = pd.get_dummies(X_train)  \n",
        "    y_train = pd.get_dummies(y_train)\n",
        "    rf_model = RandomForestRegressor(random_state=0)\n",
        "    rf_model.fit(X_train, X_test)\n",
        "    y_predict = rf_model.predict(y_train)\n",
        "    print(X_train.columns)\n",
        "    print(rf_model.score(X_train, X_test))\n",
        "    print(rf_model.score(y_train, y_test))\n",
        "    if max_score < rf_model.score(y_train, y_test):\n",
        "        max_score = rf_model.score(y_train, y_test)\n",
        "        hyper_parameter = X_train.columns\n",
        "    imp = rf_model.feature_importances_\n",
        "    feature_list = pd.concat([pd.Series(list(X_train)), pd.Series(rf_model.feature_importances_)], axis=1)\n",
        "    feature_list.columns = ['features_name', 'importance']\n",
        "    min_value=feature_list.sort_values(\"importance\", ascending =True)[0:1]['features_name']\n",
        "    train.drop(min_value,axis=1,inplace=True)\n",
        "    test.drop(min_value,axis=1,inplace=True)"
      ],
      "execution_count": null,
      "outputs": []
    },
    {
      "cell_type": "code",
      "metadata": {
        "id": "hRnBV-DUwbgv",
        "colab_type": "code",
        "colab": {}
      },
      "source": [
        "train.columns\n"
      ],
      "execution_count": null,
      "outputs": []
    },
    {
      "cell_type": "code",
      "metadata": {
        "id": "fNoLO5xlIgJS",
        "colab_type": "code",
        "colab": {}
      },
      "source": [
        "print(max_score)\n",
        "print(hyper_parameter)"
      ],
      "execution_count": null,
      "outputs": []
    },
    {
      "cell_type": "code",
      "metadata": {
        "id": "CKuGFKm4Hv0R",
        "colab_type": "code",
        "colab": {}
      },
      "source": [
        "imp = rf_model.feature_importances_\n",
        "feature_list = pd.concat([pd.Series(list(X_train)), pd.Series(rf_model.feature_importances_)], axis=1)\n",
        "feature_list.columns = ['features_name', 'importance']\n",
        "feature_list.sort_values(\"importance\", ascending =True)"
      ],
      "execution_count": null,
      "outputs": []
    },
    {
      "cell_type": "code",
      "metadata": {
        "id": "Af6y6VwiMY9u",
        "colab_type": "code",
        "colab": {}
      },
      "source": [
        "lost_value=feature_list.sort_values(\"importance\", ascending =True)[0:1]['features_name']"
      ],
      "execution_count": null,
      "outputs": []
    },
    {
      "cell_type": "code",
      "metadata": {
        "id": "HWXDVtKtMZcn",
        "colab_type": "code",
        "colab": {}
      },
      "source": [
        "imp = rf_model.feature_importances_\n",
        "feature_list = pd.concat([pd.Series(list(X_train)), pd.Series(rf_model.feature_importances_)], axis=1)\n",
        "feature_list.columns = ['features_name', 'importance']\n",
        "max_value=feature_list.sort_values(\"importance\", ascending =False)[0:1]['features_name']"
      ],
      "execution_count": null,
      "outputs": []
    },
    {
      "cell_type": "code",
      "metadata": {
        "id": "YqtXkXqssGwf",
        "colab_type": "code",
        "colab": {}
      },
      "source": [
        "min_value"
      ],
      "execution_count": null,
      "outputs": []
    },
    {
      "cell_type": "code",
      "metadata": {
        "id": "ey8Q8sTjtD0n",
        "colab_type": "code",
        "colab": {}
      },
      "source": [
        "str(min_value)"
      ],
      "execution_count": null,
      "outputs": []
    },
    {
      "cell_type": "code",
      "metadata": {
        "id": "IaAaGrWps-7_",
        "colab_type": "code",
        "colab": {}
      },
      "source": [
        "train.drop(min_value,axis=1,inplace=True)"
      ],
      "execution_count": null,
      "outputs": []
    },
    {
      "cell_type": "code",
      "metadata": {
        "id": "wPHCWiHu4PEt",
        "colab_type": "code",
        "colab": {}
      },
      "source": [
        "importan=feature_list.sort_values(\"importance\", ascending =False)"
      ],
      "execution_count": null,
      "outputs": []
    },
    {
      "cell_type": "code",
      "metadata": {
        "id": "g9BriCCw4VL_",
        "colab_type": "code",
        "colab": {}
      },
      "source": [
        "importan['features_name']"
      ],
      "execution_count": null,
      "outputs": []
    },
    {
      "cell_type": "code",
      "metadata": {
        "id": "7BwCs_Hw_tcp",
        "colab_type": "code",
        "colab": {}
      },
      "source": [
        "for i in importan['features_name']:\n",
        "    print(i)"
      ],
      "execution_count": null,
      "outputs": []
    },
    {
      "cell_type": "code",
      "metadata": {
        "id": "D3N8OFS74k8y",
        "colab_type": "code",
        "colab": {}
      },
      "source": [
        "count=1\n",
        "for i in importan['features_name']:\n",
        "    dict[i] = dict[i] + (count)\n",
        "    count+=1"
      ],
      "execution_count": null,
      "outputs": []
    },
    {
      "cell_type": "code",
      "metadata": {
        "id": "UmdKn77i_bpK",
        "colab_type": "code",
        "colab": {}
      },
      "source": [
        "dict"
      ],
      "execution_count": null,
      "outputs": []
    },
    {
      "cell_type": "code",
      "metadata": {
        "id": "U3tFHMuV4c61",
        "colab_type": "code",
        "colab": {}
      },
      "source": [
        "for i in range(0,10):\n",
        "    print(i)"
      ],
      "execution_count": null,
      "outputs": []
    },
    {
      "cell_type": "code",
      "metadata": {
        "id": "8W8fNvFS9N7s",
        "colab_type": "code",
        "colab": {}
      },
      "source": [
        "dict={}"
      ],
      "execution_count": null,
      "outputs": []
    },
    {
      "cell_type": "code",
      "metadata": {
        "id": "EhFRYReE9VAH",
        "colab_type": "code",
        "colab": {}
      },
      "source": [
        "dict ={'한달_상품군빈도' : 0,\n",
        "'한달_중분류빈도': 0,\n",
        "'한달_소분류빈도': 0,\n",
        "'한달_그룹코드빈도': 0,   \n",
        "'기온': 0,\n",
        "'강수량': 0,\n",
        "'풍속': 0,\n",
        "'습도': 0,\n",
        "'적설': 0,\n",
        "'전운량': 0,\n",
        "'미세먼지': 0,\n",
        "'초미세먼지': 0,\n",
        "'그룹코드_전체횟수': 0,\n",
        "'그룹코드_대박횟수': 0,\n",
        "'그룹코드_대박확률': 0,\n",
        "'브랜드별_대박횟수': 0,\n",
        "'브랜드별_대박확률': 0,\n",
        "'중분류별_대박횟수': 0,\n",
        "'중분류별_대박확률': 0,\n",
        "'소분류별_대박횟수': 0,\n",
        "'소분류별_대박확률': 0,\n",
        "'월_COS': 0,\n",
        "'월_SIN': 0,\n",
        "'168시간_COS': 0,\n",
        "'168시간_SIN': 0,\n",
        "'24시간_COS': 0,\n",
        "'24시간_SIN': 0,\n",
        "'판매단가순위': 0,\n",
        "'상품군판매단가순위': 0,\n",
        "'상품군요일순위': 0,   \n",
        "'상품군24시간순위': 0,   \n",
        "'중분류요일순위': 0,\n",
        "'중분류24시간순위': 0,\n",
        "'상품군168시간순위': 0,   \n",
        "'중분류168시간순위': 0,   \n",
        "'판매단가rank': 0,   \n",
        "'시간순위': 0,\n",
        "'시간순위168': 0,   \n",
        "'브랜드순위': 0,   \n",
        "'소분류순위': 0,\n",
        "'비눈여부': 0,\n",
        "'비눈여부_평균이상': 0,\n",
        "'sale단어': 0,\n",
        "'휴일': 0,\n",
        "'그룹코드': 0,\n",
        "'판매단가': 0}"
      ],
      "execution_count": null,
      "outputs": []
    },
    {
      "cell_type": "code",
      "metadata": {
        "id": "4H6gX1-eAfj8",
        "colab_type": "code",
        "colab": {}
      },
      "source": [
        "hyper_parameter =''\n",
        "max_score = 0\n",
        "for i in range(0,100):\n",
        "    list_value = random.sample(range(1,len(train.columns)),10) # 1부터 100까지의 범위중에 10개를 중복없이 뽑겠다.\n",
        "    value = []\n",
        "    for i in list_value:\n",
        "        value.append(test.columns[i])\n",
        "    X_train = train[value]\n",
        "    y_train = test[value]\n",
        "    X_train = pd.get_dummies(X_train)  \n",
        "    y_train = pd.get_dummies(y_train)\n",
        "    rf_model = RandomForestRegressor(random_state=0)\n",
        "    rf_model.fit(X_train, X_test)\n",
        "    y_predict = rf_model.predict(y_train)\n",
        "    print(X_train.columns)\n",
        "    print(rf_model.score(X_train, X_test))\n",
        "    print(rf_model.score(y_train, y_test))\n",
        "    if max_score < rf_model.score(y_train, y_test):\n",
        "        max_score = rf_model.score(y_train, y_test)\n",
        "        hyper_parameter = X_train.columns\n",
        "    imp = rf_model.feature_importances_\n",
        "    feature_list = pd.concat([pd.Series(list(X_train)), pd.Series(rf_model.feature_importances_)], axis=1)\n",
        "    feature_list.columns = ['features_name', 'importance']\n",
        "    sort_feature_list = feature_list.sort_values(\"importance\", ascending =True)\n",
        "    count=1\n",
        "    for i in sort_feature_list['features_name']:\n",
        "        dict[i] = dict[i] + (count)\n",
        "        count+=1\n",
        "    "
      ],
      "execution_count": null,
      "outputs": []
    },
    {
      "cell_type": "code",
      "metadata": {
        "id": "b2bCkOyU9ohw",
        "colab_type": "code",
        "colab": {}
      },
      "source": [
        "dict"
      ],
      "execution_count": null,
      "outputs": []
    },
    {
      "cell_type": "code",
      "metadata": {
        "id": "7UevtELIG0Tr",
        "colab_type": "code",
        "colab": {}
      },
      "source": [
        "res =sorted(dict.items())"
      ],
      "execution_count": null,
      "outputs": []
    },
    {
      "cell_type": "code",
      "metadata": {
        "id": "5ny-HLwIHCk2",
        "colab_type": "code",
        "colab": {}
      },
      "source": [
        "pgm_lang_val_reverse = sorted(dict.items(), \n",
        "\n",
        "                              reverse=True, \n",
        "\n",
        "                              key=lambda item: item[1])\n",
        "\n",
        "\n",
        "\n"
      ],
      "execution_count": null,
      "outputs": []
    },
    {
      "cell_type": "code",
      "metadata": {
        "id": "lvfdd4hBHu0l",
        "colab_type": "code",
        "colab": {}
      },
      "source": [
        "pgm_lang_val_reverse"
      ],
      "execution_count": null,
      "outputs": []
    }
  ]
}