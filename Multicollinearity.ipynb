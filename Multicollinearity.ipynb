{
  "nbformat": 4,
  "nbformat_minor": 0,
  "metadata": {
    "colab": {
      "name": "Multicollinearity.ipynb",
      "provenance": [],
      "private_outputs": true,
      "mount_file_id": "1SoxW-7Tkf6j6UZLUHMkHm457fqxVgyFo",
      "authorship_tag": "ABX9TyP+Ug3IFT8HgGRT8/1quiOa",
      "include_colab_link": true
    },
    "kernelspec": {
      "name": "python3",
      "display_name": "Python 3"
    }
  },
  "cells": [
    {
      "cell_type": "markdown",
      "metadata": {
        "id": "view-in-github",
        "colab_type": "text"
      },
      "source": [
        "<a href=\"https://colab.research.google.com/github/hwanginbeom/bigData/blob/master/Multicollinearity.ipynb\" target=\"_parent\"><img src=\"https://colab.research.google.com/assets/colab-badge.svg\" alt=\"Open In Colab\"/></a>"
      ]
    },
    {
      "cell_type": "code",
      "metadata": {
        "id": "1GAOwlCW1BkR",
        "colab_type": "code",
        "colab": {}
      },
      "source": [
        "import pandas as pd\n",
        "from statsmodels.datasets.longley import load_pandas\n"
      ],
      "execution_count": null,
      "outputs": []
    },
    {
      "cell_type": "code",
      "metadata": {
        "id": "cN_DSphtCA7B",
        "colab_type": "code",
        "colab": {}
      },
      "source": [
        "import platform\n",
        "if platform.system() == 'Darwin': # Mac 환경 폰트 설정\n",
        "    plt.rc('font', family='AppleGothic')\n",
        "elif platform.system() == 'Windows': # Windows 환경 폰트 설정\n",
        "    plt.rc('font', family='Malgun Gothic')\n",
        "\n",
        "plt.rc('axes', unicode_minus=False) # 마이너스 폰트 설정\n",
        "\n",
        "\n",
        "# 글씨 선명하게 출력하는 설정\n",
        "%config InlineBackend.figure_format = 'retina'"
      ],
      "execution_count": null,
      "outputs": []
    },
    {
      "cell_type": "code",
      "metadata": {
        "id": "e2P-tAcx2GSl",
        "colab_type": "code",
        "colab": {}
      },
      "source": [
        "import pandas as pd\n",
        "import numpy as np\n",
        "import seaborn as sns\n",
        "from patsy import dmatrices\n",
        "import statsmodels.api as sm;\n",
        "from statsmodels.stats.outliers_influence import variance_inflation_factor\n",
        "%matplotlib inline"
      ],
      "execution_count": null,
      "outputs": []
    },
    {
      "cell_type": "code",
      "metadata": {
        "id": "WhUNSSfaBrbG",
        "colab_type": "code",
        "colab": {}
      },
      "source": [
        "!sudo apt-get install -y fonts-nanum\n",
        "!sudo fc-cache -fv\n",
        "!rm ~/.cache/matplotlib -rf"
      ],
      "execution_count": null,
      "outputs": []
    },
    {
      "cell_type": "code",
      "metadata": {
        "id": "VdTF1kw9C6SX",
        "colab_type": "code",
        "colab": {}
      },
      "source": [
        "import matplotlib.pyplot as plt\n",
        "\n",
        "plt.rc('font', family='NanumBarunGothic') "
      ],
      "execution_count": null,
      "outputs": []
    },
    {
      "cell_type": "code",
      "metadata": {
        "id": "cvtkieyvCgeg",
        "colab_type": "code",
        "colab": {}
      },
      "source": [
        "import matplotlib.font_manager as fm\n",
        "\n",
        "# 설치된 폰트 출력\n",
        "font_list = [font.name for font in fm.fontManager.ttflist]\n",
        "font_list"
      ],
      "execution_count": null,
      "outputs": []
    },
    {
      "cell_type": "code",
      "metadata": {
        "id": "wToT_zDSBtgc",
        "colab_type": "code",
        "colab": {}
      },
      "source": [
        "pd.Series([1, -1, 0, 5, -5]).plot(title=\"한글폰트\")\n"
      ],
      "execution_count": null,
      "outputs": []
    },
    {
      "cell_type": "code",
      "metadata": {
        "id": "jxIj98TB0ssd",
        "colab_type": "code",
        "colab": {}
      },
      "source": [
        "df = pd.read_csv(\"/content/drive/My Drive/data/bigcorn_data/2019train.csv\")"
      ],
      "execution_count": null,
      "outputs": []
    },
    {
      "cell_type": "code",
      "metadata": {
        "id": "wZNqFMPK1muV",
        "colab_type": "code",
        "colab": {}
      },
      "source": [
        "df.columns"
      ],
      "execution_count": null,
      "outputs": []
    },
    {
      "cell_type": "code",
      "metadata": {
        "id": "-eTXVwdQ1ohw",
        "colab_type": "code",
        "colab": {}
      },
      "source": [
        "use_value=df[[ '노출(분)',   '상품군', '판매단가',\n",
        "       '취급액', '월', '일', '요일', '반기', '분기', '365일', '53주차', '시간', '시간hour', '날짜',\n",
        "        '계절', '168시간', '휴일', '방송시간', '매진여부', \n",
        "       'sale단어', '결제수단', '상품명change', 'count', '중분류', '소분류', '한달_상품군빈도',\n",
        "       '한달_중분류빈도', '한달_소분류빈도', '한달_그룹코드빈도', '기온', '강수량', '풍속', '습도', '적설',\n",
        "       '전운량', '비눈여부', '비눈여부_평균이상', '미세먼지', '초미세먼지', '판매단가순위', '상품군판매단가순위',\n",
        "       '상품군요일순위', '상품군24시간순위', '중분류요일순위', '중분류24시간순위', '상품군168시간순위',\n",
        "       '중분류168시간순위', '판매단가rank', '시간순위', '시간순위168', '브랜드순위', '중분류순위', '소분류순위',\n",
        "       '취급액boxcox']]"
      ],
      "execution_count": null,
      "outputs": []
    },
    {
      "cell_type": "code",
      "metadata": {
        "id": "t1oFOPkx4KGM",
        "colab_type": "code",
        "colab": {}
      },
      "source": [
        ""
      ],
      "execution_count": null,
      "outputs": []
    },
    {
      "cell_type": "code",
      "metadata": {
        "id": "zSs1yo4b1zar",
        "colab_type": "code",
        "colab": {}
      },
      "source": [
        "sns.pairplot(use_value);\n"
      ],
      "execution_count": null,
      "outputs": []
    },
    {
      "cell_type": "code",
      "metadata": {
        "id": "adfTjUfdAGnK",
        "colab_type": "code",
        "colab": {}
      },
      "source": [
        "\n",
        "time=df[[ '노출(분)',   '상품군', '판매단가',\n",
        "       '취급액', '월', '일', '요일', '반기', '분기', '시간', '날짜',\n",
        "        '계절', '휴일', '방송시간', '매진여부', \n",
        "       'sale단어', '결제수단', '상품명change', 'count', '중분류', '소분류', '한달_상품군빈도',\n",
        "       '한달_중분류빈도', '한달_소분류빈도', '한달_그룹코드빈도', '기온', '강수량', '풍속', '습도', '적설',\n",
        "       '전운량', '비눈여부', '비눈여부_평균이상', '미세먼지', '초미세먼지', '판매단가순위', '상품군판매단가순위',\n",
        "       '상품군요일순위', '상품군24시간순위', '중분류요일순위', '중분류24시간순위', '상품군168시간순위',\n",
        "       '중분류168시간순위', '판매단가rank', '시간순위', '시간순위168', '브랜드순위', '중분류순위', '소분류순위',\n",
        "       '취급액boxcox']]"
      ],
      "execution_count": null,
      "outputs": []
    },
    {
      "cell_type": "code",
      "metadata": {
        "id": "MPFcJKi1AYQl",
        "colab_type": "code",
        "colab": {}
      },
      "source": [
        "time=df[['노출(분)', '월', '일', '요일', '반기', '분기', '시간', '날짜','시간순위', '시간순위168',\n",
        "        '계절', '휴일', '상품군요일순위', '상품군24시간순위', '중분류요일순위', '중분류24시간순위', '상품군168시간순위',\n",
        "       '중분류168시간순위' ]]"
      ],
      "execution_count": null,
      "outputs": []
    },
    {
      "cell_type": "code",
      "metadata": {
        "id": "7Xk6PM77AkNX",
        "colab_type": "code",
        "colab": {}
      },
      "source": [
        "sns.pairplot(time);\n"
      ],
      "execution_count": null,
      "outputs": []
    },
    {
      "cell_type": "code",
      "metadata": {
        "id": "WZukiMtUAt1K",
        "colab_type": "code",
        "colab": {}
      },
      "source": [
        "time_rating = df[['시간순위', '시간순위168',\n",
        "         '상품군요일순위', '상품군24시간순위', '중분류요일순위', '중분류24시간순위', '상품군168시간순위',\n",
        "       '중분류168시간순위' ]]\n"
      ],
      "execution_count": null,
      "outputs": []
    },
    {
      "cell_type": "code",
      "metadata": {
        "id": "Rj61uURYcEiM",
        "colab_type": "code",
        "colab": {}
      },
      "source": [
        "from sklearn.preprocessing import OneHotEncoder\n",
        "enc = OneHotEncoder()\n",
        "enc.fit(time_rating)"
      ],
      "execution_count": null,
      "outputs": []
    },
    {
      "cell_type": "code",
      "metadata": {
        "id": "BonSE8iNc7y2",
        "colab_type": "code",
        "colab": {}
      },
      "source": [
        "Y_class_onehot = enc.transform(time_rating).toarray()"
      ],
      "execution_count": null,
      "outputs": []
    },
    {
      "cell_type": "code",
      "metadata": {
        "id": "jL7asn-GdIxR",
        "colab_type": "code",
        "colab": {}
      },
      "source": [
        "Y_class_onehot[0]"
      ],
      "execution_count": null,
      "outputs": []
    },
    {
      "cell_type": "code",
      "metadata": {
        "id": "DVCMx7xzdeGZ",
        "colab_type": "code",
        "colab": {}
      },
      "source": [
        "type(Y_class_onehot)"
      ],
      "execution_count": null,
      "outputs": []
    },
    {
      "cell_type": "code",
      "metadata": {
        "id": "8sLRAOKKdWL-",
        "colab_type": "code",
        "colab": {}
      },
      "source": [
        "sns.pairplot(Y_class_onehot);\n"
      ],
      "execution_count": null,
      "outputs": []
    },
    {
      "cell_type": "code",
      "metadata": {
        "id": "Ffex-idGdCVH",
        "colab_type": "code",
        "colab": {}
      },
      "source": [
        "Y_class_recovery = np.argmax(Y_class_onehot, axis=1).reshape(-1,1)\n"
      ],
      "execution_count": null,
      "outputs": []
    },
    {
      "cell_type": "code",
      "metadata": {
        "id": "DBRUuBOvhZK8",
        "colab_type": "code",
        "colab": {}
      },
      "source": [
        "from sklearn.preprocessing import LabelEncoder\n",
        "\n",
        "encoder = LabelEncoder()\n",
        "\n",
        "df['시간순위'] = encoder.fit_transform(df['시간순위'])\n",
        "\n",
        "# test['Name'] = encoder.transform(test['Name'])\n",
        "\n"
      ],
      "execution_count": null,
      "outputs": []
    },
    {
      "cell_type": "code",
      "metadata": {
        "id": "BmISfZKrhm8K",
        "colab_type": "code",
        "colab": {}
      },
      "source": [
        "df['시간순위']"
      ],
      "execution_count": null,
      "outputs": []
    },
    {
      "cell_type": "code",
      "metadata": {
        "id": "gZPKZpC5pvqZ",
        "colab_type": "code",
        "colab": {}
      },
      "source": [
        "import pandas as pd\n",
        "import numpy as np\n",
        "import seaborn as sns\n",
        "from patsy import dmatrices\n",
        "import statsmodels.api as sm;\n",
        "from statsmodels.stats.outliers_influence import variance_inflation_factor\n",
        "%matplotlib inline\n",
        "\n",
        "df.head()"
      ],
      "execution_count": null,
      "outputs": []
    },
    {
      "cell_type": "code",
      "metadata": {
        "id": "Hn0nbOampxXd",
        "colab_type": "code",
        "colab": {}
      },
      "source": [
        "sns.pairplot(df[['취급액', '기온', '강수량']]);\n"
      ],
      "execution_count": null,
      "outputs": []
    },
    {
      "cell_type": "code",
      "metadata": {
        "id": "nebNZBrQqY9j",
        "colab_type": "code",
        "colab": {}
      },
      "source": [
        "y, X = dmatrices('취급액 ~ 기온 + 강수량 + 미세먼지', df, return_type = 'dataframe')\n",
        "\n",
        "vif = pd.DataFrame()\n",
        "vif[\"VIF Factor\"] = [variance_inflation_factor(X.values, i) for i in range(X.shape[1])]\n",
        "vif[\"features\"] = X.columns \n",
        "vif"
      ],
      "execution_count": null,
      "outputs": []
    },
    {
      "cell_type": "code",
      "metadata": {
        "id": "KXMOOa0KqhTi",
        "colab_type": "code",
        "colab": {}
      },
      "source": [
        "df_dummy_mat1 = pd.get_dummies(df['소분류순위'])\n",
        "df_dummy_mat2 = pd.get_dummies(df['중분류순위'])\n"
      ],
      "execution_count": null,
      "outputs": []
    },
    {
      "cell_type": "code",
      "metadata": {
        "id": "Cf9miVL_toiw",
        "colab_type": "code",
        "colab": {}
      },
      "source": [
        "df_dummy_mat1"
      ],
      "execution_count": null,
      "outputs": []
    },
    {
      "cell_type": "code",
      "metadata": {
        "id": "9cxmmm_tt57_",
        "colab_type": "code",
        "colab": {}
      },
      "source": [
        "df_so=df[['취급액']]"
      ],
      "execution_count": null,
      "outputs": []
    },
    {
      "cell_type": "code",
      "metadata": {
        "id": "nf5HBQ0otpCs",
        "colab_type": "code",
        "colab": {}
      },
      "source": [
        "df_so = df_so.join(df_dummy_mat.add_prefix('소분류순위_'))\n"
      ],
      "execution_count": null,
      "outputs": []
    },
    {
      "cell_type": "code",
      "metadata": {
        "id": "skl7_PhEuCY_",
        "colab_type": "code",
        "colab": {}
      },
      "source": [
        "df_so\n"
      ],
      "execution_count": null,
      "outputs": []
    },
    {
      "cell_type": "code",
      "metadata": {
        "id": "WpP50-g2ueiM",
        "colab_type": "code",
        "colab": {}
      },
      "source": [
        "y, X = dmatrices('취급액 ~ 소분류순위_1 + 소분류순위_2 + 소분류순위_3 +소분류순위_4 +소분류순위_5', df_so, return_type = 'dataframe')\n",
        "\n",
        "vif = pd.DataFrame()\n",
        "vif[\"VIF Factor\"] = [variance_inflation_factor(X.values, i) for i in range(X.shape[1])]\n",
        "vif[\"features\"] = X.columns \n",
        "vif"
      ],
      "execution_count": null,
      "outputs": []
    },
    {
      "cell_type": "code",
      "metadata": {
        "id": "WIhe5phGu52o",
        "colab_type": "code",
        "colab": {}
      },
      "source": [
        "from scipy import stats"
      ],
      "execution_count": null,
      "outputs": []
    },
    {
      "cell_type": "code",
      "metadata": {
        "id": "rYryPkX7zz0B",
        "colab_type": "code",
        "colab": {}
      },
      "source": [
        "df_so=df[['취급액']]"
      ],
      "execution_count": null,
      "outputs": []
    },
    {
      "cell_type": "code",
      "metadata": {
        "id": "f2WDPNW_0H8b",
        "colab_type": "code",
        "colab": {}
      },
      "source": [
        "a=df_so.values"
      ],
      "execution_count": null,
      "outputs": []
    },
    {
      "cell_type": "code",
      "metadata": {
        "id": "pQ9-bUuW0KP-",
        "colab_type": "code",
        "colab": {}
      },
      "source": [
        "type(df_so.values)"
      ],
      "execution_count": null,
      "outputs": []
    },
    {
      "cell_type": "code",
      "metadata": {
        "id": "abUM8gwi0a1x",
        "colab_type": "code",
        "colab": {}
      },
      "source": [
        "b=df['소분류순위'].values\n"
      ],
      "execution_count": null,
      "outputs": []
    },
    {
      "cell_type": "code",
      "metadata": {
        "id": "VvTFgufr0NuK",
        "colab_type": "code",
        "colab": {}
      },
      "source": [
        "stats.spearmanr(c,b)"
      ],
      "execution_count": null,
      "outputs": []
    },
    {
      "cell_type": "code",
      "metadata": {
        "id": "pc0CXJfA2t7s",
        "colab_type": "code",
        "colab": {}
      },
      "source": [
        "stats.spearmanr(a,b)"
      ],
      "execution_count": null,
      "outputs": []
    },
    {
      "cell_type": "code",
      "metadata": {
        "id": "F0SyADTA2yt9",
        "colab_type": "code",
        "colab": {}
      },
      "source": [
        "stats.spearmanr(a,c)"
      ],
      "execution_count": null,
      "outputs": []
    },
    {
      "cell_type": "code",
      "metadata": {
        "id": "PNfwOQBi3zya",
        "colab_type": "code",
        "colab": {}
      },
      "source": [
        "cor(df, method=\"spearman\")"
      ],
      "execution_count": null,
      "outputs": []
    },
    {
      "cell_type": "code",
      "metadata": {
        "id": "p2Ln8psE3-9R",
        "colab_type": "code",
        "colab": {}
      },
      "source": [
        "spearman = time_rating.corr(method=\"spearman\")\n",
        "corr = df.corr()\n"
      ],
      "execution_count": null,
      "outputs": []
    },
    {
      "cell_type": "code",
      "metadata": {
        "id": "kJSXu3iD3_5K",
        "colab_type": "code",
        "colab": {}
      },
      "source": [
        "corr"
      ],
      "execution_count": null,
      "outputs": []
    },
    {
      "cell_type": "code",
      "metadata": {
        "id": "621cGQLg4W9P",
        "colab_type": "code",
        "colab": {}
      },
      "source": [
        "spearman"
      ],
      "execution_count": null,
      "outputs": []
    },
    {
      "cell_type": "code",
      "metadata": {
        "id": "Jn0MslwT6J5T",
        "colab_type": "code",
        "colab": {}
      },
      "source": [
        "stats.spearmanr(a,c)"
      ],
      "execution_count": null,
      "outputs": []
    },
    {
      "cell_type": "code",
      "metadata": {
        "id": "9YNB2fRC7WtU",
        "colab_type": "code",
        "colab": {}
      },
      "source": [
        "factor=df[['판매단가순위',\n",
        "'상품군판매단가순위',\n",
        "'상품군요일순위',\t\n",
        "'상품군24시간순위',\t\n",
        "'중분류요일순위',\n",
        "'중분류24시간순위',\n",
        "'상품군168시간순위',\t\n",
        "'중분류168시간순위',\t\n",
        "'판매단가rank',\t\n",
        "'시간순위',\n",
        "'시간순위168',\t\n",
        "'브랜드순위',\n",
        "'중분류순위',\t\n",
        "'소분류순위',\n",
        "'비눈여부',\n",
        "'비눈여부_평균이상',\n",
        "'결제수단',\n",
        "'sale단어',\n",
        "'휴일',\n",
        "'계절',\n",
        "'분기',\n",
        "]]"
      ],
      "execution_count": null,
      "outputs": []
    },
    {
      "cell_type": "code",
      "metadata": {
        "id": "r2FQ4yUA748A",
        "colab_type": "code",
        "colab": {}
      },
      "source": [
        "factor"
      ],
      "execution_count": null,
      "outputs": []
    },
    {
      "cell_type": "code",
      "metadata": {
        "id": "zLsQjjIr76K8",
        "colab_type": "code",
        "colab": {}
      },
      "source": [
        "spearman = factor.corr(method=\"spearman\")\n",
        "spearman"
      ],
      "execution_count": null,
      "outputs": []
    },
    {
      "cell_type": "code",
      "metadata": {
        "id": "hEnz2UxBAQ6i",
        "colab_type": "code",
        "colab": {}
      },
      "source": [
        "df2 = pd.read_csv(\"/content/drive/My Drive/data/bigcorn_data/2019train2.csv\")"
      ],
      "execution_count": null,
      "outputs": []
    },
    {
      "cell_type": "code",
      "metadata": {
        "id": "nHKmnfEa8sED",
        "colab_type": "code",
        "colab": {}
      },
      "source": [
        "int_value = df2[['취급액','한달_상품군빈도',\n",
        "'한달_중분류빈도',\n",
        "'한달_소분류빈도',\n",
        "'한달_그룹코드빈도',\t\n",
        "'기온',\n",
        "'강수량',\n",
        "'풍속',\n",
        "'습도',\n",
        "'적설',\n",
        "'전운량',\n",
        "'미세먼지',\n",
        "'초미세먼지',\n",
        "'그룹코드_전체횟수',\n",
        "'그룹코드_대박횟수',\n",
        "'그룹코드_대박확률',\n",
        "'브랜드별_전체횟수',\n",
        "'브랜드별_대박횟수',\n",
        "'브랜드별_대박확률',\n",
        "'중분류별_전체횟수',\n",
        "'중분류별_대박횟수',\n",
        "'중분류별_대박확률',\n",
        "'소분류별_전체횟수',\n",
        "'소분류별_대박횟수',\n",
        "'소분류별_대박확률',\n",
        "'월_COS',\n",
        "'월_SIN',\n",
        "'168시간_COS',\n",
        "'168시간_SIN',\n",
        "'24시간_COS',\n",
        "'24시간_SIN']]"
      ],
      "execution_count": null,
      "outputs": []
    },
    {
      "cell_type": "code",
      "metadata": {
        "id": "-3D16VCpC2_K",
        "colab_type": "code",
        "colab": {}
      },
      "source": [
        "int_value"
      ],
      "execution_count": null,
      "outputs": []
    },
    {
      "cell_type": "code",
      "metadata": {
        "id": "t6Rv36uH_pkr",
        "colab_type": "code",
        "colab": {}
      },
      "source": [
        "y, X = dmatrices('취급액 ~ 한달_상품군빈도+한달_중분류빈도+한달_소분류빈도+한달_그룹코드빈도+기온+강수량+풍속+습도+적설+전운량+미세먼지+초미세먼지+그룹코드_전체횟수+그룹코드_대박횟수+그룹코드_대박확률+브랜드별_전체횟수+브랜드별_대박횟수+브랜드별_대박확률+중분류별_전체횟수+중분류별_대박횟수+중분류별_대박확률+소분류별_전체횟수+소분류별_대박횟수+소분류별_대박확률+월_COS+월_SIN', int_value, return_type = 'dataframe')\n",
        "\n",
        "vif = pd.DataFrame()\n",
        "vif[\"VIF Factor\"] = [variance_inflation_factor(X.values, i) for i in range(X.shape[1])]\n",
        "vif[\"features\"] = X.columns \n",
        "vif"
      ],
      "execution_count": null,
      "outputs": []
    },
    {
      "cell_type": "code",
      "metadata": {
        "id": "4UvpdwhqCTuo",
        "colab_type": "code",
        "colab": {}
      },
      "source": [
        ""
      ],
      "execution_count": null,
      "outputs": []
    }
  ]
}