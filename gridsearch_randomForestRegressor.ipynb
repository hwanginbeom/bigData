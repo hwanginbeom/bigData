{
  "nbformat": 4,
  "nbformat_minor": 0,
  "metadata": {
    "colab": {
      "name": "gridsearch_randomForestRegressor.ipynb",
      "provenance": [],
      "private_outputs": true,
      "mount_file_id": "1Lg6bD3mwjOUEQXxKdmo6xgoAMdxJQ7xG",
      "authorship_tag": "ABX9TyOPrI7S4a+LFgpQ+lgnwTwZ",
      "include_colab_link": true
    },
    "kernelspec": {
      "name": "python3",
      "display_name": "Python 3"
    }
  },
  "cells": [
    {
      "cell_type": "markdown",
      "metadata": {
        "id": "view-in-github",
        "colab_type": "text"
      },
      "source": [
        "<a href=\"https://colab.research.google.com/github/hwanginbeom/bigData/blob/master/gridsearch_randomForestRegressor.ipynb\" target=\"_parent\"><img src=\"https://colab.research.google.com/assets/colab-badge.svg\" alt=\"Open In Colab\"/></a>"
      ]
    },
    {
      "cell_type": "code",
      "metadata": {
        "id": "BG5CJWU-qZjY",
        "colab_type": "code",
        "colab": {}
      },
      "source": [
        "import random\n",
        "import pandas as pd\n",
        "import numpy as np\n",
        "import datetime\n",
        "import seaborn as sns\n",
        "import xgboost as xgb\n",
        "from sklearn.model_selection import train_test_split\n",
        "from sklearn.model_selection import KFold\n",
        "from sklearn.model_selection import GridSearchCV\n",
        "from sklearn.model_selection import cross_val_score\n",
        "from sklearn.metrics import explained_variance_score\n",
        "from sklearn.preprocessing import OneHotEncoder, MinMaxScaler\n",
        "import lightgbm as lgb\n",
        "from sklearn.decomposition import PCA\n",
        "from sklearn.ensemble import RandomForestRegressor\n",
        "\n",
        "\n",
        "import matplotlib.pyplot as plt\n"
      ],
      "execution_count": null,
      "outputs": []
    },
    {
      "cell_type": "code",
      "metadata": {
        "id": "JVxuqWwSuzcb",
        "colab_type": "code",
        "colab": {}
      },
      "source": [
        "test = pd.read_csv('/content/drive/My Drive/data/bigcorn_data/2019test5_0925.csv', encoding = 'cp949')\n",
        "train = pd.read_csv('/content/drive/My Drive/data/bigcorn_data/2019train_0925.csv', encoding = 'cp949')"
      ],
      "execution_count": null,
      "outputs": []
    },
    {
      "cell_type": "code",
      "metadata": {
        "id": "Q1qTQ6_orxxB",
        "colab_type": "code",
        "colab": {}
      },
      "source": [
        "y_train = train[['취급액boxcox']]\n",
        "y_test = test[['취급액boxcox']]\n",
        "X_test=test[['그룹코드_대박확률', '일', '방송내_순서', '그룹코드', '판매상품종류비율', '기온', '방송시간', '시간hour', '상품군판매단가순위','상품군']]\n",
        "X_train=train[['그룹코드_대박확률', '일', '방송내_순서', '그룹코드', '판매상품종류비율', '기온', '방송시간', '시간hour', '상품군판매단가순위','상품군']]\n",
        "X_train = pd.get_dummies(X_train)  \n",
        "X_test = pd.get_dummies(X_test)"
      ],
      "execution_count": null,
      "outputs": []
    },
    {
      "cell_type": "code",
      "metadata": {
        "id": "xGl4ixU3rzzq",
        "colab_type": "code",
        "colab": {}
      },
      "source": [
        "rf_param_grid={\n",
        "    'n_estimators' : [200,250,300],\n",
        "    'max_depth' : [11,12,13],\n",
        "    'min_samples_leaf' : [1,2,3],\n",
        "    'min_samples_split' : [1,2]\n",
        "}"
      ],
      "execution_count": null,
      "outputs": []
    },
    {
      "cell_type": "code",
      "metadata": {
        "id": "zQdEJJequ-pH",
        "colab_type": "code",
        "colab": {}
      },
      "source": [
        "rf = RandomForestRegressor(random_state=0)"
      ],
      "execution_count": null,
      "outputs": []
    },
    {
      "cell_type": "code",
      "metadata": {
        "id": "OaV-1SkGsDJj",
        "colab_type": "code",
        "colab": {}
      },
      "source": [
        "rf_grid = GridSearchCV(rf, param_grid=rf_param_grid, scoring=\"r2\",n_jobs=-1,verbose=1)\n",
        "rf_grid.fit(X_train,y_train)"
      ],
      "execution_count": null,
      "outputs": []
    },
    {
      "cell_type": "code",
      "metadata": {
        "id": "4sR1kSJfNwDB",
        "colab_type": "code",
        "colab": {}
      },
      "source": [
        "rf_grid.best_score_"
      ],
      "execution_count": null,
      "outputs": []
    },
    {
      "cell_type": "code",
      "metadata": {
        "id": "P0CDCxgNNv7A",
        "colab_type": "code",
        "colab": {}
      },
      "source": [
        "rf_grid.best_params_"
      ],
      "execution_count": null,
      "outputs": []
    },
    {
      "cell_type": "code",
      "metadata": {
        "id": "SUWYTzUWu4bQ",
        "colab_type": "code",
        "colab": {}
      },
      "source": [
        "rf_grid.best_score_"
      ],
      "execution_count": null,
      "outputs": []
    },
    {
      "cell_type": "code",
      "metadata": {
        "id": "FOGstYBLEIov",
        "colab_type": "code",
        "colab": {}
      },
      "source": [
        "rf_grid.best_params_"
      ],
      "execution_count": null,
      "outputs": []
    },
    {
      "cell_type": "code",
      "metadata": {
        "id": "UzeVxor_GiYp",
        "colab_type": "code",
        "colab": {}
      },
      "source": [
        "#####radomforest#####\n",
        "rf_model = RandomForestRegressor(random_state=0,max_depth=12,min_samples_leaf=3,min_samples_split=2,n_estimators=200)\n",
        "rf_model.fit(X_train, y_train)\n",
        "y_predict = rf_model.predict(X_test)\n",
        "print(y_predict)\n",
        "# plt.plot(y_predict)\n",
        "print(rf_model.score(X_train, y_train))\n",
        "print(rf_model.score(X_test, y_test))"
      ],
      "execution_count": null,
      "outputs": []
    },
    {
      "cell_type": "code",
      "metadata": {
        "id": "Wn-yEON6EK3n",
        "colab_type": "code",
        "colab": {}
      },
      "source": [
        "#####radomforest#####\n",
        "rf_model = RandomForestRegressor(random_state=0)\n",
        "rf_model.fit(X_train, y_train)\n",
        "y_predict = rf_model.predict(X_test)\n",
        "print(y_predict)\n",
        "# plt.plot(y_predict)\n",
        "print(rf_model.score(X_train, y_train))\n",
        "print(rf_model.score(X_test, y_test))"
      ],
      "execution_count": null,
      "outputs": []
    },
    {
      "cell_type": "code",
      "metadata": {
        "id": "ZCIZ0W4xE9St",
        "colab_type": "code",
        "colab": {}
      },
      "source": [
        "'max_depth': 12,\n",
        " 'min_samples_leaf': 3,\n",
        " 'min_samples_split': 2,\n",
        " 'n_estimators': 200"
      ],
      "execution_count": null,
      "outputs": []
    }
  ]
}